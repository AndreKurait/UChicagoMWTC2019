{
 "cells": [
  {
   "cell_type": "code",
   "execution_count": 1,
   "metadata": {},
   "outputs": [],
   "source": [
    "import numpy as np\n",
    "from cvxopt import matrix\n",
    "from cvxopt.blas import dot\n",
    "from cvxopt.solvers import qp\n",
    "import pickle\n",
    "from sklearn.linear_model import LinearRegression\n",
    "from sklearn import decomposition\n",
    "import pandas as pd\n",
    "from numpy import linalg\n",
    "import math\n",
    "from sklearn.covariance import LedoitWolf\n",
    "import cvxopt"
   ]
  },
  {
   "cell_type": "code",
   "execution_count": 2,
   "metadata": {},
   "outputs": [],
   "source": [
    "def load_object(file_name):\n",
    "    \"load the pickled object\"\n",
    "    with open(file_name, 'rb') as f:\n",
    "        return pickle.load(f)\n",
    "\n",
    "\n",
    "def view_data(data_path):\n",
    "    data = load_object(data_path)\n",
    "    prices = data['prices']\n",
    "    names = data['features']['names']\n",
    "    features = data['features']['values']\n",
    "    print(prices.shape)\n",
    "    print(names)\n",
    "    print(features.shape)\n",
    "    return prices, features, names"
   ]
  },
  {
   "cell_type": "markdown",
   "metadata": {},
   "source": [
    "# Arbitrary Stock Iteration"
   ]
  },
  {
   "cell_type": "code",
   "execution_count": 3,
   "metadata": {
    "scrolled": true
   },
   "outputs": [
    {
     "name": "stdout",
     "output_type": "stream",
     "text": [
      "(757, 680)\n",
      "['labour cost', 'analyst projected total earnings', 'weighted average outstanding shares', 'R&D intensity index', 'relative strength index', 'total assets', 'net book value', 'analyst sentiment', 'market share', 'Aggregate Capital Cost']\n",
      "(756, 680, 10)\n"
     ]
    }
   ],
   "source": [
    "#Say we are given some new price/factors vector\n",
    "prices, features, names = view_data('C3_train.pkl')\n",
    "\n",
    "#Just take the first 500 features and the 501 prices, Just like train data\n",
    "\n",
    "\n",
    "\n",
    "#Log the price vector\n",
    "df = pd.DataFrame(prices)\n",
    "returns_df = df.pct_change()\n",
    "returns_df.drop(0, axis = 0, inplace = True)\n",
    "\n"
   ]
  },
  {
   "cell_type": "code",
   "execution_count": 4,
   "metadata": {},
   "outputs": [
    {
     "name": "stdout",
     "output_type": "stream",
     "text": [
      "(756, 680, 10)\n"
     ]
    }
   ],
   "source": [
    "q = []\n",
    "print((features.shape))\n",
    "for k in range(0,len(prices[-1])):    \n",
    "    #S0 to F0\n",
    "    pca = decomposition.PCA(n_components = 3)\n",
    "    model = LinearRegression()\n",
    "\n",
    "    s0 = returns_df.iloc[-51:-2,k] \n",
    "    f0 = features[:,k].copy()\n",
    "    \n",
    "    f0 = f0[-52:-2]\n",
    "    df = pd.DataFrame(f0)\n",
    "    featureschange_df = df.pct_change()\n",
    "    f0 = featureschange_df.drop(0, axis = 0)\n",
    "    f0.fillna(0, inplace = True)\n",
    "\n",
    "\n",
    "    #PCA on 5 components\n",
    "    f0 = pca.fit_transform(f0)\n",
    "\n",
    "\n",
    "    #Fit\n",
    "    reg1 = model.fit(f0, s0)\n",
    "    coef = reg1.coef_\n",
    "\n",
    "    s1 = (prices[-1][k]  - prices[-2][k]) / prices[-2][k] \n",
    "    predicted_f1 = coef.T * s1\n",
    "\n",
    "\n",
    "    ######################################################################\n",
    "\n",
    "\n",
    "    # F0 to S1\n",
    "\n",
    "    s1 = returns_df.iloc[-50:-1,k] \n",
    "\n",
    "    f0_sqr = np.square(f0)\n",
    "    f0 = np.concatenate([f0, f0_sqr], axis = 1)\n",
    "\n",
    "\n",
    "    reg2 = model.fit(f0, s1)\n",
    "    predicted_f1\n",
    "    predicted_f1squared = np.square(predicted_f1)\n",
    "    predicted_f1 = np.concatenate([predicted_f1, predicted_f1squared])\n",
    "\n",
    "    x = reg2.predict(predicted_f1.reshape(1,-1))\n",
    "    q.append(x)\n"
   ]
  },
  {
   "cell_type": "code",
   "execution_count": 5,
   "metadata": {},
   "outputs": [],
   "source": [
    "LedWolf = LedoitWolf().fit(prices)\n",
    "cov = LedWolf.covariance_"
   ]
  },
  {
   "cell_type": "code",
   "execution_count": 6,
   "metadata": {},
   "outputs": [],
   "source": [
    "cvxopt.solvers.options['show_progress'] = False"
   ]
  },
  {
   "cell_type": "code",
   "execution_count": 7,
   "metadata": {
    "scrolled": true
   },
   "outputs": [
    {
     "ename": "NameError",
     "evalue": "name 'z' is not defined",
     "output_type": "error",
     "traceback": [
      "\u001b[0;31m---------------------------------------------------------------------------\u001b[0m",
      "\u001b[0;31mNameError\u001b[0m                                 Traceback (most recent call last)",
      "\u001b[0;32m<ipython-input-7-376c41f522ef>\u001b[0m in \u001b[0;36m<module>\u001b[0;34m\u001b[0m\n\u001b[1;32m      2\u001b[0m \u001b[0mn\u001b[0m \u001b[0;34m=\u001b[0m \u001b[0mlen\u001b[0m\u001b[0;34m(\u001b[0m\u001b[0mreturns_df\u001b[0m\u001b[0;34m.\u001b[0m\u001b[0mT\u001b[0m\u001b[0;34m)\u001b[0m\u001b[0;34m\u001b[0m\u001b[0;34m\u001b[0m\u001b[0m\n\u001b[1;32m      3\u001b[0m \u001b[0mS\u001b[0m \u001b[0;34m=\u001b[0m \u001b[0mmatrix\u001b[0m\u001b[0;34m(\u001b[0m\u001b[0mcov\u001b[0m\u001b[0;34m)\u001b[0m\u001b[0;34m\u001b[0m\u001b[0;34m\u001b[0m\u001b[0m\n\u001b[0;32m----> 4\u001b[0;31m \u001b[0mpbar\u001b[0m \u001b[0;34m=\u001b[0m \u001b[0mmatrix\u001b[0m\u001b[0;34m(\u001b[0m\u001b[0mz\u001b[0m\u001b[0;34m)\u001b[0m\u001b[0;34m\u001b[0m\u001b[0;34m\u001b[0m\u001b[0m\n\u001b[0m\u001b[1;32m      5\u001b[0m \u001b[0mG\u001b[0m \u001b[0;34m=\u001b[0m \u001b[0mmatrix\u001b[0m\u001b[0;34m(\u001b[0m\u001b[0;36m0.0\u001b[0m\u001b[0;34m,\u001b[0m \u001b[0;34m(\u001b[0m\u001b[0mn\u001b[0m\u001b[0;34m,\u001b[0m\u001b[0mn\u001b[0m\u001b[0;34m)\u001b[0m\u001b[0;34m)\u001b[0m\u001b[0;34m\u001b[0m\u001b[0;34m\u001b[0m\u001b[0m\n\u001b[1;32m      6\u001b[0m \u001b[0mG\u001b[0m\u001b[0;34m[\u001b[0m\u001b[0;34m:\u001b[0m\u001b[0;34m:\u001b[0m\u001b[0mn\u001b[0m\u001b[0;34m+\u001b[0m\u001b[0;36m1\u001b[0m\u001b[0;34m]\u001b[0m \u001b[0;34m=\u001b[0m \u001b[0;34m-\u001b[0m\u001b[0;36m1.0\u001b[0m\u001b[0;34m\u001b[0m\u001b[0;34m\u001b[0m\u001b[0m\n",
      "\u001b[0;31mNameError\u001b[0m: name 'z' is not defined"
     ]
    }
   ],
   "source": [
    "from math import sqrt\n",
    "n = len(returns_df.T)\n",
    "S = matrix(cov)\n",
    "pbar = matrix(z)\n",
    "G = matrix(0.0, (n,n))\n",
    "G[::n+1] = -1.0\n",
    "h = matrix(0.0, (n,1))\n",
    "A = matrix(1.0, (1,n))\n",
    "b = matrix(1.0)\n",
    "\n",
    "# Compute trade-off.\n",
    "N = 50\n",
    "mus = [ 10**(5.0*t/N-1.0) for t in range(N) ]\n",
    "#neg_mus = [ -10**(5.0*t/N-1.0) for t in range(N) ]\n",
    "#mus = neg_mus + mus\n",
    "portfolios = [ qp(mu*S, -pbar, G, h, A, b)['x'] for mu in mus ]\n",
    "returns = [ dot(pbar,x) for x in portfolios ]\n",
    "risks = [ sqrt(dot(x, S*x)) for x in portfolios ]"
   ]
  },
  {
   "cell_type": "code",
   "execution_count": null,
   "metadata": {},
   "outputs": [],
   "source": [
    "sharpe = []\n",
    "for x, y in zip(returns, risks):\n",
    "    sharpe.append(x / np.square(y))\n",
    "import operator\n",
    "index, value = max(enumerate(sharpe), key=operator.itemgetter(1))\n",
    "print(np.array(portfolios[index]))"
   ]
  }
 ],
 "metadata": {
  "kernelspec": {
   "display_name": "Python 3",
   "language": "python",
   "name": "python3"
  },
  "language_info": {
   "codemirror_mode": {
    "name": "ipython",
    "version": 3
   },
   "file_extension": ".py",
   "mimetype": "text/x-python",
   "name": "python",
   "nbconvert_exporter": "python",
   "pygments_lexer": "ipython3",
   "version": "3.7.1"
  }
 },
 "nbformat": 4,
 "nbformat_minor": 2
}
